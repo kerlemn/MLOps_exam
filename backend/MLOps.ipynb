{
  "cells": [
    {
      "cell_type": "markdown",
      "metadata": {
        "id": "2gw0QXfRTMsO"
      },
      "source": [
        "# Find a model for the reccomendation system"
      ]
    },
    {
      "cell_type": "markdown",
      "metadata": {
        "id": "Eb4uk9RbTd6b"
      },
      "source": [
        "What we want to obtain is a model with which we can suggest the most suited page for the user. To do this we look for that model which obtain the highest accuracy at the smallest train time. This because we will need to train one model for each user at every fixed amount of feedbacks."
      ]
    },
    {
      "cell_type": "markdown",
      "metadata": {
        "id": "76u1zTY6N-3b"
      },
      "source": [
        "## Imports"
      ]
    },
    {
      "cell_type": "code",
      "execution_count": 1,
      "metadata": {
        "colab": {
          "base_uri": "https://localhost:8080/"
        },
        "id": "V2SJZf-XFYiF",
        "outputId": "14f83f4d-dd9c-4f1d-a37e-88c1f1f4d66f"
      },
      "outputs": [
        {
          "ename": "ModuleNotFoundError",
          "evalue": "No module named 'helper'",
          "output_type": "error",
          "traceback": [
            "\u001b[1;31m---------------------------------------------------------------------------\u001b[0m",
            "\u001b[1;31mModuleNotFoundError\u001b[0m                       Traceback (most recent call last)",
            "Cell \u001b[1;32mIn[1], line 4\u001b[0m\n\u001b[0;32m      1\u001b[0m \u001b[38;5;28;01mimport\u001b[39;00m \u001b[38;5;21;01mpandas\u001b[39;00m \u001b[38;5;28;01mas\u001b[39;00m \u001b[38;5;21;01mpd\u001b[39;00m\n\u001b[0;32m      2\u001b[0m \u001b[38;5;28;01mimport\u001b[39;00m \u001b[38;5;21;01mnumpy\u001b[39;00m \u001b[38;5;28;01mas\u001b[39;00m \u001b[38;5;21;01mnp\u001b[39;00m\n\u001b[1;32m----> 4\u001b[0m \u001b[38;5;28;01mfrom\u001b[39;00m \u001b[38;5;21;01mhelper\u001b[39;00m \u001b[38;5;28;01mimport\u001b[39;00m get_training_data\n\u001b[0;32m      6\u001b[0m \u001b[38;5;28;01mfrom\u001b[39;00m \u001b[38;5;21;01msklearn\u001b[39;00m\u001b[38;5;21;01m.\u001b[39;00m\u001b[38;5;21;01mlinear_model\u001b[39;00m \u001b[38;5;28;01mimport\u001b[39;00m LogisticRegression\n\u001b[0;32m      7\u001b[0m \u001b[38;5;28;01mfrom\u001b[39;00m \u001b[38;5;21;01msklearn\u001b[39;00m\u001b[38;5;21;01m.\u001b[39;00m\u001b[38;5;21;01mtree\u001b[39;00m         \u001b[38;5;28;01mimport\u001b[39;00m DecisionTreeClassifier\n",
            "\u001b[1;31mModuleNotFoundError\u001b[0m: No module named 'helper'"
          ]
        }
      ],
      "source": [
        "import pandas as pd\n",
        "import numpy as np\n",
        "\n",
        "from helper import get_training_data\n",
        "\n",
        "from sklearn.linear_model import LogisticRegression\n",
        "from sklearn.tree         import DecisionTreeClassifier\n",
        "from sklearn.svm          import SVC\n",
        "from sklearn.naive_bayes  import GaussianNB\n",
        "\n",
        "from sklearn.metrics import f1_score\n",
        "from sklearn.metrics import make_scorer\n",
        "\n",
        "from sklearn.model_selection import cross_val_score\n",
        "from sklearn.model_selection import GridSearchCV\n",
        "from sklearn.model_selection import train_test_split\n",
        "\n",
        "from matplotlib import pyplot as plt\n",
        "\n",
        "from time import time\n",
        "\n",
        "import pickle as pkl\n",
        "\n",
        "import warnings\n",
        "warnings.filterwarnings(\"ignore\")\n",
        "\n",
        "from google.colab import drive\n",
        "drive.mount('/content/drive')\n",
        "\n",
        "np.random.seed(0)"
      ]
    },
    {
      "cell_type": "markdown",
      "metadata": {
        "id": "-0BWyD33OB9m"
      },
      "source": [
        "## Preprocess"
      ]
    },
    {
      "cell_type": "markdown",
      "metadata": {
        "id": "7JY-UElkT4BY"
      },
      "source": [
        "Load the .csv file as a Pandas DataFrame"
      ]
    },
    {
      "cell_type": "code",
      "execution_count": null,
      "metadata": {
        "id": "VPJM2WLkGz1D"
      },
      "outputs": [],
      "source": [
        "user = \"Stefano\"\n",
        "X, y = get_training_data(user)"
      ]
    },
    {
      "cell_type": "markdown",
      "metadata": {
        "id": "MwyNG7IuT7uj"
      },
      "source": [
        "The DataFrame contains the title of the page, the related bag of words contained in the Wikipedia page."
      ]
    },
    {
      "cell_type": "code",
      "execution_count": null,
      "metadata": {
        "colab": {
          "base_uri": "https://localhost:8080/",
          "height": 307
        },
        "id": "9UKfOxJRM6ol",
        "outputId": "dd0a3665-8480-4c1e-94eb-0976cad25f72"
      },
      "outputs": [
        {
          "data": {
            "text/html": [
              "\n",
              "  <div id=\"df-f2c577ea-f52a-42fe-ad7a-67155f2ae4d7\" class=\"colab-df-container\">\n",
              "    <div>\n",
              "<style scoped>\n",
              "    .dataframe tbody tr th:only-of-type {\n",
              "        vertical-align: middle;\n",
              "    }\n",
              "\n",
              "    .dataframe tbody tr th {\n",
              "        vertical-align: top;\n",
              "    }\n",
              "\n",
              "    .dataframe thead th {\n",
              "        text-align: right;\n",
              "    }\n",
              "</style>\n",
              "<table border=\"1\" class=\"dataframe\">\n",
              "  <thead>\n",
              "    <tr style=\"text-align: right;\">\n",
              "      <th></th>\n",
              "      <th>TITLE</th>\n",
              "      <th>the</th>\n",
              "      <th>of</th>\n",
              "      <th>and</th>\n",
              "      <th>to</th>\n",
              "      <th>a</th>\n",
              "      <th>in</th>\n",
              "      <th>for</th>\n",
              "      <th>is</th>\n",
              "      <th>on</th>\n",
              "      <th>...</th>\n",
              "      <th>robbie</th>\n",
              "      <th>stake</th>\n",
              "      <th>cocktail</th>\n",
              "      <th>outlets</th>\n",
              "      <th>swaziland</th>\n",
              "      <th>varieties</th>\n",
              "      <th>arbor</th>\n",
              "      <th>mediawiki</th>\n",
              "      <th>configurations</th>\n",
              "      <th>poison</th>\n",
              "    </tr>\n",
              "  </thead>\n",
              "  <tbody>\n",
              "    <tr>\n",
              "      <th>0</th>\n",
              "      <td>linear algebra</td>\n",
              "      <td>True</td>\n",
              "      <td>True</td>\n",
              "      <td>True</td>\n",
              "      <td>True</td>\n",
              "      <td>True</td>\n",
              "      <td>True</td>\n",
              "      <td>True</td>\n",
              "      <td>True</td>\n",
              "      <td>True</td>\n",
              "      <td>...</td>\n",
              "      <td>False</td>\n",
              "      <td>False</td>\n",
              "      <td>False</td>\n",
              "      <td>False</td>\n",
              "      <td>False</td>\n",
              "      <td>False</td>\n",
              "      <td>True</td>\n",
              "      <td>False</td>\n",
              "      <td>False</td>\n",
              "      <td>False</td>\n",
              "    </tr>\n",
              "    <tr>\n",
              "      <th>1</th>\n",
              "      <td>math</td>\n",
              "      <td>True</td>\n",
              "      <td>True</td>\n",
              "      <td>True</td>\n",
              "      <td>True</td>\n",
              "      <td>True</td>\n",
              "      <td>True</td>\n",
              "      <td>True</td>\n",
              "      <td>True</td>\n",
              "      <td>True</td>\n",
              "      <td>...</td>\n",
              "      <td>False</td>\n",
              "      <td>False</td>\n",
              "      <td>False</td>\n",
              "      <td>False</td>\n",
              "      <td>False</td>\n",
              "      <td>False</td>\n",
              "      <td>False</td>\n",
              "      <td>False</td>\n",
              "      <td>True</td>\n",
              "      <td>False</td>\n",
              "    </tr>\n",
              "    <tr>\n",
              "      <th>2</th>\n",
              "      <td>japan</td>\n",
              "      <td>True</td>\n",
              "      <td>True</td>\n",
              "      <td>True</td>\n",
              "      <td>True</td>\n",
              "      <td>True</td>\n",
              "      <td>True</td>\n",
              "      <td>True</td>\n",
              "      <td>True</td>\n",
              "      <td>True</td>\n",
              "      <td>...</td>\n",
              "      <td>False</td>\n",
              "      <td>False</td>\n",
              "      <td>False</td>\n",
              "      <td>False</td>\n",
              "      <td>False</td>\n",
              "      <td>False</td>\n",
              "      <td>False</td>\n",
              "      <td>False</td>\n",
              "      <td>False</td>\n",
              "      <td>False</td>\n",
              "    </tr>\n",
              "    <tr>\n",
              "      <th>3</th>\n",
              "      <td>Congress of Deputies</td>\n",
              "      <td>True</td>\n",
              "      <td>True</td>\n",
              "      <td>True</td>\n",
              "      <td>True</td>\n",
              "      <td>True</td>\n",
              "      <td>True</td>\n",
              "      <td>True</td>\n",
              "      <td>True</td>\n",
              "      <td>True</td>\n",
              "      <td>...</td>\n",
              "      <td>False</td>\n",
              "      <td>False</td>\n",
              "      <td>False</td>\n",
              "      <td>False</td>\n",
              "      <td>False</td>\n",
              "      <td>False</td>\n",
              "      <td>False</td>\n",
              "      <td>False</td>\n",
              "      <td>False</td>\n",
              "      <td>False</td>\n",
              "    </tr>\n",
              "    <tr>\n",
              "      <th>4</th>\n",
              "      <td>madrid</td>\n",
              "      <td>True</td>\n",
              "      <td>True</td>\n",
              "      <td>True</td>\n",
              "      <td>True</td>\n",
              "      <td>True</td>\n",
              "      <td>True</td>\n",
              "      <td>True</td>\n",
              "      <td>True</td>\n",
              "      <td>True</td>\n",
              "      <td>...</td>\n",
              "      <td>False</td>\n",
              "      <td>False</td>\n",
              "      <td>True</td>\n",
              "      <td>False</td>\n",
              "      <td>False</td>\n",
              "      <td>False</td>\n",
              "      <td>False</td>\n",
              "      <td>False</td>\n",
              "      <td>False</td>\n",
              "      <td>False</td>\n",
              "    </tr>\n",
              "  </tbody>\n",
              "</table>\n",
              "<p>5 rows × 10001 columns</p>\n",
              "</div>\n",
              "    <div class=\"colab-df-buttons\">\n",
              "\n",
              "  <div class=\"colab-df-container\">\n",
              "    <button class=\"colab-df-convert\" onclick=\"convertToInteractive('df-f2c577ea-f52a-42fe-ad7a-67155f2ae4d7')\"\n",
              "            title=\"Convert this dataframe to an interactive table.\"\n",
              "            style=\"display:none;\">\n",
              "\n",
              "  <svg xmlns=\"http://www.w3.org/2000/svg\" height=\"24px\" viewBox=\"0 -960 960 960\">\n",
              "    <path d=\"M120-120v-720h720v720H120Zm60-500h600v-160H180v160Zm220 220h160v-160H400v160Zm0 220h160v-160H400v160ZM180-400h160v-160H180v160Zm440 0h160v-160H620v160ZM180-180h160v-160H180v160Zm440 0h160v-160H620v160Z\"/>\n",
              "  </svg>\n",
              "    </button>\n",
              "\n",
              "  <style>\n",
              "    .colab-df-container {\n",
              "      display:flex;\n",
              "      gap: 12px;\n",
              "    }\n",
              "\n",
              "    .colab-df-convert {\n",
              "      background-color: #E8F0FE;\n",
              "      border: none;\n",
              "      border-radius: 50%;\n",
              "      cursor: pointer;\n",
              "      display: none;\n",
              "      fill: #1967D2;\n",
              "      height: 32px;\n",
              "      padding: 0 0 0 0;\n",
              "      width: 32px;\n",
              "    }\n",
              "\n",
              "    .colab-df-convert:hover {\n",
              "      background-color: #E2EBFA;\n",
              "      box-shadow: 0px 1px 2px rgba(60, 64, 67, 0.3), 0px 1px 3px 1px rgba(60, 64, 67, 0.15);\n",
              "      fill: #174EA6;\n",
              "    }\n",
              "\n",
              "    .colab-df-buttons div {\n",
              "      margin-bottom: 4px;\n",
              "    }\n",
              "\n",
              "    [theme=dark] .colab-df-convert {\n",
              "      background-color: #3B4455;\n",
              "      fill: #D2E3FC;\n",
              "    }\n",
              "\n",
              "    [theme=dark] .colab-df-convert:hover {\n",
              "      background-color: #434B5C;\n",
              "      box-shadow: 0px 1px 3px 1px rgba(0, 0, 0, 0.15);\n",
              "      filter: drop-shadow(0px 1px 2px rgba(0, 0, 0, 0.3));\n",
              "      fill: #FFFFFF;\n",
              "    }\n",
              "  </style>\n",
              "\n",
              "    <script>\n",
              "      const buttonEl =\n",
              "        document.querySelector('#df-f2c577ea-f52a-42fe-ad7a-67155f2ae4d7 button.colab-df-convert');\n",
              "      buttonEl.style.display =\n",
              "        google.colab.kernel.accessAllowed ? 'block' : 'none';\n",
              "\n",
              "      async function convertToInteractive(key) {\n",
              "        const element = document.querySelector('#df-f2c577ea-f52a-42fe-ad7a-67155f2ae4d7');\n",
              "        const dataTable =\n",
              "          await google.colab.kernel.invokeFunction('convertToInteractive',\n",
              "                                                    [key], {});\n",
              "        if (!dataTable) return;\n",
              "\n",
              "        const docLinkHtml = 'Like what you see? Visit the ' +\n",
              "          '<a target=\"_blank\" href=https://colab.research.google.com/notebooks/data_table.ipynb>data table notebook</a>'\n",
              "          + ' to learn more about interactive tables.';\n",
              "        element.innerHTML = '';\n",
              "        dataTable['output_type'] = 'display_data';\n",
              "        await google.colab.output.renderOutput(dataTable, element);\n",
              "        const docLink = document.createElement('div');\n",
              "        docLink.innerHTML = docLinkHtml;\n",
              "        element.appendChild(docLink);\n",
              "      }\n",
              "    </script>\n",
              "  </div>\n",
              "\n",
              "\n",
              "<div id=\"df-a31dbfa3-ea4d-453b-a9df-cda01245deec\">\n",
              "  <button class=\"colab-df-quickchart\" onclick=\"quickchart('df-a31dbfa3-ea4d-453b-a9df-cda01245deec')\"\n",
              "            title=\"Suggest charts\"\n",
              "            style=\"display:none;\">\n",
              "\n",
              "<svg xmlns=\"http://www.w3.org/2000/svg\" height=\"24px\"viewBox=\"0 0 24 24\"\n",
              "     width=\"24px\">\n",
              "    <g>\n",
              "        <path d=\"M19 3H5c-1.1 0-2 .9-2 2v14c0 1.1.9 2 2 2h14c1.1 0 2-.9 2-2V5c0-1.1-.9-2-2-2zM9 17H7v-7h2v7zm4 0h-2V7h2v10zm4 0h-2v-4h2v4z\"/>\n",
              "    </g>\n",
              "</svg>\n",
              "  </button>\n",
              "\n",
              "<style>\n",
              "  .colab-df-quickchart {\n",
              "      --bg-color: #E8F0FE;\n",
              "      --fill-color: #1967D2;\n",
              "      --hover-bg-color: #E2EBFA;\n",
              "      --hover-fill-color: #174EA6;\n",
              "      --disabled-fill-color: #AAA;\n",
              "      --disabled-bg-color: #DDD;\n",
              "  }\n",
              "\n",
              "  [theme=dark] .colab-df-quickchart {\n",
              "      --bg-color: #3B4455;\n",
              "      --fill-color: #D2E3FC;\n",
              "      --hover-bg-color: #434B5C;\n",
              "      --hover-fill-color: #FFFFFF;\n",
              "      --disabled-bg-color: #3B4455;\n",
              "      --disabled-fill-color: #666;\n",
              "  }\n",
              "\n",
              "  .colab-df-quickchart {\n",
              "    background-color: var(--bg-color);\n",
              "    border: none;\n",
              "    border-radius: 50%;\n",
              "    cursor: pointer;\n",
              "    display: none;\n",
              "    fill: var(--fill-color);\n",
              "    height: 32px;\n",
              "    padding: 0;\n",
              "    width: 32px;\n",
              "  }\n",
              "\n",
              "  .colab-df-quickchart:hover {\n",
              "    background-color: var(--hover-bg-color);\n",
              "    box-shadow: 0 1px 2px rgba(60, 64, 67, 0.3), 0 1px 3px 1px rgba(60, 64, 67, 0.15);\n",
              "    fill: var(--button-hover-fill-color);\n",
              "  }\n",
              "\n",
              "  .colab-df-quickchart-complete:disabled,\n",
              "  .colab-df-quickchart-complete:disabled:hover {\n",
              "    background-color: var(--disabled-bg-color);\n",
              "    fill: var(--disabled-fill-color);\n",
              "    box-shadow: none;\n",
              "  }\n",
              "\n",
              "  .colab-df-spinner {\n",
              "    border: 2px solid var(--fill-color);\n",
              "    border-color: transparent;\n",
              "    border-bottom-color: var(--fill-color);\n",
              "    animation:\n",
              "      spin 1s steps(1) infinite;\n",
              "  }\n",
              "\n",
              "  @keyframes spin {\n",
              "    0% {\n",
              "      border-color: transparent;\n",
              "      border-bottom-color: var(--fill-color);\n",
              "      border-left-color: var(--fill-color);\n",
              "    }\n",
              "    20% {\n",
              "      border-color: transparent;\n",
              "      border-left-color: var(--fill-color);\n",
              "      border-top-color: var(--fill-color);\n",
              "    }\n",
              "    30% {\n",
              "      border-color: transparent;\n",
              "      border-left-color: var(--fill-color);\n",
              "      border-top-color: var(--fill-color);\n",
              "      border-right-color: var(--fill-color);\n",
              "    }\n",
              "    40% {\n",
              "      border-color: transparent;\n",
              "      border-right-color: var(--fill-color);\n",
              "      border-top-color: var(--fill-color);\n",
              "    }\n",
              "    60% {\n",
              "      border-color: transparent;\n",
              "      border-right-color: var(--fill-color);\n",
              "    }\n",
              "    80% {\n",
              "      border-color: transparent;\n",
              "      border-right-color: var(--fill-color);\n",
              "      border-bottom-color: var(--fill-color);\n",
              "    }\n",
              "    90% {\n",
              "      border-color: transparent;\n",
              "      border-bottom-color: var(--fill-color);\n",
              "    }\n",
              "  }\n",
              "</style>\n",
              "\n",
              "  <script>\n",
              "    async function quickchart(key) {\n",
              "      const quickchartButtonEl =\n",
              "        document.querySelector('#' + key + ' button');\n",
              "      quickchartButtonEl.disabled = true;  // To prevent multiple clicks.\n",
              "      quickchartButtonEl.classList.add('colab-df-spinner');\n",
              "      try {\n",
              "        const charts = await google.colab.kernel.invokeFunction(\n",
              "            'suggestCharts', [key], {});\n",
              "      } catch (error) {\n",
              "        console.error('Error during call to suggestCharts:', error);\n",
              "      }\n",
              "      quickchartButtonEl.classList.remove('colab-df-spinner');\n",
              "      quickchartButtonEl.classList.add('colab-df-quickchart-complete');\n",
              "    }\n",
              "    (() => {\n",
              "      let quickchartButtonEl =\n",
              "        document.querySelector('#df-a31dbfa3-ea4d-453b-a9df-cda01245deec button');\n",
              "      quickchartButtonEl.style.display =\n",
              "        google.colab.kernel.accessAllowed ? 'block' : 'none';\n",
              "    })();\n",
              "  </script>\n",
              "</div>\n",
              "    </div>\n",
              "  </div>\n"
            ],
            "text/plain": [
              "                  TITLE   the    of   and    to     a    in   for    is    on  \\\n",
              "0        linear algebra  True  True  True  True  True  True  True  True  True   \n",
              "1                  math  True  True  True  True  True  True  True  True  True   \n",
              "2                 japan  True  True  True  True  True  True  True  True  True   \n",
              "3  Congress of Deputies  True  True  True  True  True  True  True  True  True   \n",
              "4                madrid  True  True  True  True  True  True  True  True  True   \n",
              "\n",
              "   ...  robbie  stake  cocktail  outlets  swaziland  varieties  arbor  \\\n",
              "0  ...   False  False     False    False      False      False   True   \n",
              "1  ...   False  False     False    False      False      False  False   \n",
              "2  ...   False  False     False    False      False      False  False   \n",
              "3  ...   False  False     False    False      False      False  False   \n",
              "4  ...   False  False      True    False      False      False  False   \n",
              "\n",
              "   mediawiki  configurations  poison  \n",
              "0      False           False   False  \n",
              "1      False            True   False  \n",
              "2      False           False   False  \n",
              "3      False           False   False  \n",
              "4      False           False   False  \n",
              "\n",
              "[5 rows x 10001 columns]"
            ]
          },
          "execution_count": 6,
          "metadata": {},
          "output_type": "execute_result"
        }
      ],
      "source": [
        "pages_df.head()"
      ]
    },
    {
      "cell_type": "markdown",
      "metadata": {
        "id": "rMMjxBpfUd6s"
      },
      "source": [
        " To test the trained models we will use the score variable (dislike=0, like=1) that the user gave to the visited page."
      ]
    },
    {
      "cell_type": "code",
      "execution_count": null,
      "metadata": {
        "id": "UGP3iczGPDVQ"
      },
      "outputs": [],
      "source": [
        "user_df = pd.read_csv(\"/content/drive/MyDrive/MLOps/user.csv\", sep='\\t')\n",
        "user_df = user_df.drop_duplicates()"
      ]
    },
    {
      "cell_type": "code",
      "execution_count": null,
      "metadata": {
        "id": "NCgt1TF3Puup"
      },
      "outputs": [],
      "source": [
        "idx = [pages_df[pages_df['TITLE'] == title].index[0] for title in user_df[\"TITLE\"]]"
      ]
    },
    {
      "cell_type": "code",
      "execution_count": null,
      "metadata": {
        "id": "UFsJAbRLM8sz"
      },
      "outputs": [],
      "source": [
        "y = user_df[\"SCORE\"].values\n",
        "X = pages_df.drop([\"TITLE\"], axis=1).values[idx]"
      ]
    },
    {
      "cell_type": "markdown",
      "metadata": {
        "id": "okZvTVkle3Rs"
      },
      "source": [
        "# Test Models"
      ]
    },
    {
      "cell_type": "markdown",
      "metadata": {
        "id": "JuQX_J57RlHG"
      },
      "source": [
        "The selected models which will be tested are:\n",
        "- Logistic Regression\n",
        "- Decision Tree\n",
        "- Linear Support Vector Classifier\n",
        "- Support Vector Classifier\n",
        "- Gaussian Naive Bayes\n",
        "\n",
        "We train them and keep track of the accuracies, the f1-scores, the elapsed time for the training and the elapsed time for the predictions.\n",
        "\n",
        "Because we want to obtain a score and not a classification of the pages (The suggested pages will be ranked based on the scores) we decided to keep only the algorithms which contains the method:\n",
        "\n",
        "```\n",
        "# clf.predict_proba(X_test)\n",
        "```\n",
        "\n",
        "Which will return the probability that an element is inside a class. For this reason the new algorithms which will be tested are:\n",
        "- Logistic Regression\n",
        "- Decision Tree\n",
        "- Support Vector Classifier\n",
        "- Gaussian Naive Bayes\n"
      ]
    },
    {
      "cell_type": "markdown",
      "metadata": {
        "id": "siVbnu_hZCXl"
      },
      "source": [
        "### Train"
      ]
    },
    {
      "cell_type": "markdown",
      "metadata": {
        "id": "PgrKBpE5Wje_"
      },
      "source": [
        "#### Function"
      ]
    },
    {
      "cell_type": "markdown",
      "metadata": {
        "id": "S3jbjdWi5wAI"
      },
      "source": [
        "Function to train the models specified in input. The returns are the trained models, the accuracies, the f1-scores, the train elapsed to train them, the time elapsed to predict the test set"
      ]
    },
    {
      "cell_type": "code",
      "execution_count": null,
      "metadata": {
        "id": "ZS6F_igO3Y3n"
      },
      "outputs": [],
      "source": [
        "def train_models(to_train, cv, X, y):\n",
        "    # Split the data in train and test set\n",
        "    X_train, X_test, y_train, y_test = train_test_split(X, y, test_size=0.2)\n",
        "\n",
        "    models        = []\n",
        "    accuracies    = []\n",
        "    f1_scores     = []\n",
        "    train_times   = []\n",
        "    predict_times = []\n",
        "\n",
        "    for model in to_train:\n",
        "        # Train the model and keep the times\n",
        "        start_train = time()\n",
        "        clf = model.fit(X_train, y_train)\n",
        "        end_train = time()\n",
        "\n",
        "        # Make the prediction and keep the times\n",
        "        start_pred = time()\n",
        "        pred = clf.predict(X_test)\n",
        "        end_pred = time()\n",
        "\n",
        "        # Calculate the mean of the accuracies for the algorithm\n",
        "        k_fold_accuracy_mean = np.mean(cross_val_score(clf, X, y, cv=cv))\n",
        "        # Calculate the mean of the f1-scores for the algorithm\n",
        "        k_fold_f1_scores     = np.mean(cross_val_score(clf, X, y,\n",
        "                                      cv=cv,\n",
        "                                      scoring=make_scorer(f1_score, average='weighted')))\n",
        "\n",
        "        # Append the informations\n",
        "        models       .append(clf)\n",
        "        accuracies   .append(round( k_fold_accuracy_mean, 3 ))\n",
        "        f1_scores    .append(round( k_fold_f1_scores, 3 ))\n",
        "        train_times  .append(end_train - start_train)\n",
        "        predict_times.append(end_pred - start_pred)\n",
        "\n",
        "    return models, accuracies, f1_scores, train_times, predict_times"
      ]
    },
    {
      "cell_type": "markdown",
      "metadata": {
        "id": "Af5XJpfz5qKy"
      },
      "source": [
        "#### Train phase"
      ]
    },
    {
      "cell_type": "code",
      "execution_count": null,
      "metadata": {
        "id": "VzEN0Y7Y5IXB"
      },
      "outputs": [],
      "source": [
        "to_train = [LogisticRegression(), DecisionTreeClassifier(), SVC(), GaussianNB()]"
      ]
    },
    {
      "cell_type": "code",
      "execution_count": null,
      "metadata": {
        "id": "bEEFg61g3YV3"
      },
      "outputs": [],
      "source": [
        "models, accuracies, f1_scores, train_times, predict_times = train_models(to_train, 10, X, y)"
      ]
    },
    {
      "cell_type": "markdown",
      "metadata": {
        "id": "As-zmav1ZFYt"
      },
      "source": [
        "## Results"
      ]
    },
    {
      "cell_type": "markdown",
      "metadata": {
        "id": "fNdDxivLncrQ"
      },
      "source": [
        "### Results table"
      ]
    },
    {
      "cell_type": "markdown",
      "metadata": {
        "id": "7PI9kVtjSdaK"
      },
      "source": [
        "All the information are inserted inside a pandas dataframe to get a better visualization of the results. From this results we can notice that the models which require least time to train is the Gaussian Naive Bayes while the worst is the Support Vector Classifier.\n",
        "\n",
        "The best accuracy is given by the Support Vector Classifier and the worst is given by the Gaussian Naive Bayes.\n",
        "\n",
        "The Decision Tree Classifier is discarded because the predicted probabilities returned from the model are just zeros and ones. This is due by the overfitting approach of the model. Even if the pruning can be applied the Logistic Regression and the Support Vector Classifier give us good enough results.\n",
        "\n",
        "The Support Vector Classifier has a really slow prediction time, for this reason we prefer the Logistic Regression."
      ]
    },
    {
      "cell_type": "code",
      "execution_count": null,
      "metadata": {
        "id": "fqFTQKVeHzDa"
      },
      "outputs": [],
      "source": [
        "algorithm_names=[\"Logistic Regression\", \"Decision Tree\", \"Support Vector Classifier\", \"Gaussian Naive Bayes\"]"
      ]
    },
    {
      "cell_type": "code",
      "execution_count": null,
      "metadata": {
        "colab": {
          "base_uri": "https://localhost:8080/",
          "height": 175
        },
        "id": "DQolZkW6HH5I",
        "outputId": "f576dca5-66e2-4485-b4ab-6f8306fb9083"
      },
      "outputs": [
        {
          "data": {
            "text/html": [
              "\n",
              "  <div id=\"df-0cd0b632-1239-4c53-acc1-223dfb40a8d9\" class=\"colab-df-container\">\n",
              "    <div>\n",
              "<style scoped>\n",
              "    .dataframe tbody tr th:only-of-type {\n",
              "        vertical-align: middle;\n",
              "    }\n",
              "\n",
              "    .dataframe tbody tr th {\n",
              "        vertical-align: top;\n",
              "    }\n",
              "\n",
              "    .dataframe thead th {\n",
              "        text-align: right;\n",
              "    }\n",
              "</style>\n",
              "<table border=\"1\" class=\"dataframe\">\n",
              "  <thead>\n",
              "    <tr style=\"text-align: right;\">\n",
              "      <th></th>\n",
              "      <th>Accuracy</th>\n",
              "      <th>f1-score</th>\n",
              "      <th>train-time</th>\n",
              "      <th>predict-time</th>\n",
              "    </tr>\n",
              "  </thead>\n",
              "  <tbody>\n",
              "    <tr>\n",
              "      <th>Logistic Regression</th>\n",
              "      <td>0.877</td>\n",
              "      <td>0.874</td>\n",
              "      <td>1.611882</td>\n",
              "      <td>0.013809</td>\n",
              "    </tr>\n",
              "    <tr>\n",
              "      <th>Decision Tree</th>\n",
              "      <td>0.785</td>\n",
              "      <td>0.787</td>\n",
              "      <td>0.688171</td>\n",
              "      <td>0.001440</td>\n",
              "    </tr>\n",
              "    <tr>\n",
              "      <th>Support Vector Classifier</th>\n",
              "      <td>0.877</td>\n",
              "      <td>0.876</td>\n",
              "      <td>0.266031</td>\n",
              "      <td>0.103515</td>\n",
              "    </tr>\n",
              "    <tr>\n",
              "      <th>Gaussian Naive Bayes</th>\n",
              "      <td>0.645</td>\n",
              "      <td>0.611</td>\n",
              "      <td>0.048347</td>\n",
              "      <td>0.010662</td>\n",
              "    </tr>\n",
              "  </tbody>\n",
              "</table>\n",
              "</div>\n",
              "    <div class=\"colab-df-buttons\">\n",
              "\n",
              "  <div class=\"colab-df-container\">\n",
              "    <button class=\"colab-df-convert\" onclick=\"convertToInteractive('df-0cd0b632-1239-4c53-acc1-223dfb40a8d9')\"\n",
              "            title=\"Convert this dataframe to an interactive table.\"\n",
              "            style=\"display:none;\">\n",
              "\n",
              "  <svg xmlns=\"http://www.w3.org/2000/svg\" height=\"24px\" viewBox=\"0 -960 960 960\">\n",
              "    <path d=\"M120-120v-720h720v720H120Zm60-500h600v-160H180v160Zm220 220h160v-160H400v160Zm0 220h160v-160H400v160ZM180-400h160v-160H180v160Zm440 0h160v-160H620v160ZM180-180h160v-160H180v160Zm440 0h160v-160H620v160Z\"/>\n",
              "  </svg>\n",
              "    </button>\n",
              "\n",
              "  <style>\n",
              "    .colab-df-container {\n",
              "      display:flex;\n",
              "      gap: 12px;\n",
              "    }\n",
              "\n",
              "    .colab-df-convert {\n",
              "      background-color: #E8F0FE;\n",
              "      border: none;\n",
              "      border-radius: 50%;\n",
              "      cursor: pointer;\n",
              "      display: none;\n",
              "      fill: #1967D2;\n",
              "      height: 32px;\n",
              "      padding: 0 0 0 0;\n",
              "      width: 32px;\n",
              "    }\n",
              "\n",
              "    .colab-df-convert:hover {\n",
              "      background-color: #E2EBFA;\n",
              "      box-shadow: 0px 1px 2px rgba(60, 64, 67, 0.3), 0px 1px 3px 1px rgba(60, 64, 67, 0.15);\n",
              "      fill: #174EA6;\n",
              "    }\n",
              "\n",
              "    .colab-df-buttons div {\n",
              "      margin-bottom: 4px;\n",
              "    }\n",
              "\n",
              "    [theme=dark] .colab-df-convert {\n",
              "      background-color: #3B4455;\n",
              "      fill: #D2E3FC;\n",
              "    }\n",
              "\n",
              "    [theme=dark] .colab-df-convert:hover {\n",
              "      background-color: #434B5C;\n",
              "      box-shadow: 0px 1px 3px 1px rgba(0, 0, 0, 0.15);\n",
              "      filter: drop-shadow(0px 1px 2px rgba(0, 0, 0, 0.3));\n",
              "      fill: #FFFFFF;\n",
              "    }\n",
              "  </style>\n",
              "\n",
              "    <script>\n",
              "      const buttonEl =\n",
              "        document.querySelector('#df-0cd0b632-1239-4c53-acc1-223dfb40a8d9 button.colab-df-convert');\n",
              "      buttonEl.style.display =\n",
              "        google.colab.kernel.accessAllowed ? 'block' : 'none';\n",
              "\n",
              "      async function convertToInteractive(key) {\n",
              "        const element = document.querySelector('#df-0cd0b632-1239-4c53-acc1-223dfb40a8d9');\n",
              "        const dataTable =\n",
              "          await google.colab.kernel.invokeFunction('convertToInteractive',\n",
              "                                                    [key], {});\n",
              "        if (!dataTable) return;\n",
              "\n",
              "        const docLinkHtml = 'Like what you see? Visit the ' +\n",
              "          '<a target=\"_blank\" href=https://colab.research.google.com/notebooks/data_table.ipynb>data table notebook</a>'\n",
              "          + ' to learn more about interactive tables.';\n",
              "        element.innerHTML = '';\n",
              "        dataTable['output_type'] = 'display_data';\n",
              "        await google.colab.output.renderOutput(dataTable, element);\n",
              "        const docLink = document.createElement('div');\n",
              "        docLink.innerHTML = docLinkHtml;\n",
              "        element.appendChild(docLink);\n",
              "      }\n",
              "    </script>\n",
              "  </div>\n",
              "\n",
              "\n",
              "<div id=\"df-b56c80c5-b083-48ad-9810-5071d9e17556\">\n",
              "  <button class=\"colab-df-quickchart\" onclick=\"quickchart('df-b56c80c5-b083-48ad-9810-5071d9e17556')\"\n",
              "            title=\"Suggest charts\"\n",
              "            style=\"display:none;\">\n",
              "\n",
              "<svg xmlns=\"http://www.w3.org/2000/svg\" height=\"24px\"viewBox=\"0 0 24 24\"\n",
              "     width=\"24px\">\n",
              "    <g>\n",
              "        <path d=\"M19 3H5c-1.1 0-2 .9-2 2v14c0 1.1.9 2 2 2h14c1.1 0 2-.9 2-2V5c0-1.1-.9-2-2-2zM9 17H7v-7h2v7zm4 0h-2V7h2v10zm4 0h-2v-4h2v4z\"/>\n",
              "    </g>\n",
              "</svg>\n",
              "  </button>\n",
              "\n",
              "<style>\n",
              "  .colab-df-quickchart {\n",
              "      --bg-color: #E8F0FE;\n",
              "      --fill-color: #1967D2;\n",
              "      --hover-bg-color: #E2EBFA;\n",
              "      --hover-fill-color: #174EA6;\n",
              "      --disabled-fill-color: #AAA;\n",
              "      --disabled-bg-color: #DDD;\n",
              "  }\n",
              "\n",
              "  [theme=dark] .colab-df-quickchart {\n",
              "      --bg-color: #3B4455;\n",
              "      --fill-color: #D2E3FC;\n",
              "      --hover-bg-color: #434B5C;\n",
              "      --hover-fill-color: #FFFFFF;\n",
              "      --disabled-bg-color: #3B4455;\n",
              "      --disabled-fill-color: #666;\n",
              "  }\n",
              "\n",
              "  .colab-df-quickchart {\n",
              "    background-color: var(--bg-color);\n",
              "    border: none;\n",
              "    border-radius: 50%;\n",
              "    cursor: pointer;\n",
              "    display: none;\n",
              "    fill: var(--fill-color);\n",
              "    height: 32px;\n",
              "    padding: 0;\n",
              "    width: 32px;\n",
              "  }\n",
              "\n",
              "  .colab-df-quickchart:hover {\n",
              "    background-color: var(--hover-bg-color);\n",
              "    box-shadow: 0 1px 2px rgba(60, 64, 67, 0.3), 0 1px 3px 1px rgba(60, 64, 67, 0.15);\n",
              "    fill: var(--button-hover-fill-color);\n",
              "  }\n",
              "\n",
              "  .colab-df-quickchart-complete:disabled,\n",
              "  .colab-df-quickchart-complete:disabled:hover {\n",
              "    background-color: var(--disabled-bg-color);\n",
              "    fill: var(--disabled-fill-color);\n",
              "    box-shadow: none;\n",
              "  }\n",
              "\n",
              "  .colab-df-spinner {\n",
              "    border: 2px solid var(--fill-color);\n",
              "    border-color: transparent;\n",
              "    border-bottom-color: var(--fill-color);\n",
              "    animation:\n",
              "      spin 1s steps(1) infinite;\n",
              "  }\n",
              "\n",
              "  @keyframes spin {\n",
              "    0% {\n",
              "      border-color: transparent;\n",
              "      border-bottom-color: var(--fill-color);\n",
              "      border-left-color: var(--fill-color);\n",
              "    }\n",
              "    20% {\n",
              "      border-color: transparent;\n",
              "      border-left-color: var(--fill-color);\n",
              "      border-top-color: var(--fill-color);\n",
              "    }\n",
              "    30% {\n",
              "      border-color: transparent;\n",
              "      border-left-color: var(--fill-color);\n",
              "      border-top-color: var(--fill-color);\n",
              "      border-right-color: var(--fill-color);\n",
              "    }\n",
              "    40% {\n",
              "      border-color: transparent;\n",
              "      border-right-color: var(--fill-color);\n",
              "      border-top-color: var(--fill-color);\n",
              "    }\n",
              "    60% {\n",
              "      border-color: transparent;\n",
              "      border-right-color: var(--fill-color);\n",
              "    }\n",
              "    80% {\n",
              "      border-color: transparent;\n",
              "      border-right-color: var(--fill-color);\n",
              "      border-bottom-color: var(--fill-color);\n",
              "    }\n",
              "    90% {\n",
              "      border-color: transparent;\n",
              "      border-bottom-color: var(--fill-color);\n",
              "    }\n",
              "  }\n",
              "</style>\n",
              "\n",
              "  <script>\n",
              "    async function quickchart(key) {\n",
              "      const quickchartButtonEl =\n",
              "        document.querySelector('#' + key + ' button');\n",
              "      quickchartButtonEl.disabled = true;  // To prevent multiple clicks.\n",
              "      quickchartButtonEl.classList.add('colab-df-spinner');\n",
              "      try {\n",
              "        const charts = await google.colab.kernel.invokeFunction(\n",
              "            'suggestCharts', [key], {});\n",
              "      } catch (error) {\n",
              "        console.error('Error during call to suggestCharts:', error);\n",
              "      }\n",
              "      quickchartButtonEl.classList.remove('colab-df-spinner');\n",
              "      quickchartButtonEl.classList.add('colab-df-quickchart-complete');\n",
              "    }\n",
              "    (() => {\n",
              "      let quickchartButtonEl =\n",
              "        document.querySelector('#df-b56c80c5-b083-48ad-9810-5071d9e17556 button');\n",
              "      quickchartButtonEl.style.display =\n",
              "        google.colab.kernel.accessAllowed ? 'block' : 'none';\n",
              "    })();\n",
              "  </script>\n",
              "</div>\n",
              "    </div>\n",
              "  </div>\n"
            ],
            "text/plain": [
              "                           Accuracy  f1-score  train-time  predict-time\n",
              "Logistic Regression           0.877     0.874    1.611882      0.013809\n",
              "Decision Tree                 0.785     0.787    0.688171      0.001440\n",
              "Support Vector Classifier     0.877     0.876    0.266031      0.103515\n",
              "Gaussian Naive Bayes          0.645     0.611    0.048347      0.010662"
            ]
          },
          "execution_count": 14,
          "metadata": {},
          "output_type": "execute_result"
        }
      ],
      "source": [
        "data = np.array([accuracies, f1_scores, train_times, predict_times]).T\n",
        "\n",
        "results_df = pd.DataFrame(data,\n",
        "                          columns=[\"Accuracy\", \"f1-score\", \"train-time\", \"predict-time\"],\n",
        "                          index=algorithm_names)\n",
        "results_df"
      ]
    },
    {
      "cell_type": "markdown",
      "metadata": {
        "id": "NqXINVPbsDjB"
      },
      "source": [
        "# Plot Times"
      ]
    },
    {
      "cell_type": "markdown",
      "metadata": {
        "id": "0ibpRPboaBJ1"
      },
      "source": [
        "We are interested on create a model for each user every **n** feedbacks, then we want to be sure that the previous models can scale easily. For this reason we simulate a training on really big datasets."
      ]
    },
    {
      "cell_type": "markdown",
      "metadata": {
        "id": "ElDDb1vgzL3s"
      },
      "source": [
        "### Function"
      ]
    },
    {
      "cell_type": "markdown",
      "metadata": {
        "id": "cMXFkJzT6EbB"
      },
      "source": [
        "Function to plot the times given in input"
      ]
    },
    {
      "cell_type": "code",
      "execution_count": null,
      "metadata": {
        "id": "MZ3cUbKTyeFL"
      },
      "outputs": [],
      "source": [
        "def plot_times(df, model):\n",
        "    df[model].plot(kind='line', figsize=(8, 4), title=\"Algorithms times\")\n",
        "    plt.gca().spines[['top', 'right']].set_visible(False)"
      ]
    },
    {
      "cell_type": "markdown",
      "metadata": {
        "id": "SVcZMyCY6TGx"
      },
      "source": [
        "Function to generate dataset with the same columns but number of row from $N$ to $N+10000$ adding $1000$ row at time."
      ]
    },
    {
      "cell_type": "code",
      "execution_count": null,
      "metadata": {
        "id": "jvpMzs9L6q2m"
      },
      "outputs": [],
      "source": [
        "def enlarge_dataset(X, y):\n",
        "    enlarged_data          = [(X, y)]\n",
        "    X_enlarged, y_enlarged = X, y\n",
        "\n",
        "    for n in range(1000, 11000, 1000):\n",
        "        idxs = np.random.choice(range(len(X)), 1000)\n",
        "        X_enlarged = np.array(X_enlarged.tolist() + X[idxs].tolist())\n",
        "        y_enlarged = np.array(y_enlarged.tolist() + y[idxs].tolist())\n",
        "\n",
        "        enlarged_data.append((X_enlarged, y_enlarged))\n",
        "\n",
        "    return enlarged_data"
      ]
    },
    {
      "cell_type": "markdown",
      "metadata": {
        "id": "tmfvQOD_7vdn"
      },
      "source": [
        "Function to get the train times of the different enlarged datasets given in input for the specified model."
      ]
    },
    {
      "cell_type": "code",
      "execution_count": null,
      "metadata": {
        "id": "eYq6tTmusJkx"
      },
      "outputs": [],
      "source": [
        "def get_times(model, enlarged_data):\n",
        "    train_times = []\n",
        "    pred_times  = []\n",
        "\n",
        "    for X_enlarged, y_enlarged in enlarged_data:\n",
        "        start_train   = time()\n",
        "        clf           = model.fit(X_enlarged, y_enlarged)\n",
        "        end_train     = time()\n",
        "\n",
        "        train_times   += [end_train - start_train]\n",
        "\n",
        "        start_predict = time()\n",
        "        clf.predict(X_enlarged)\n",
        "        end_predict   = time()\n",
        "\n",
        "        pred_times    += [end_predict - start_predict]\n",
        "\n",
        "    return train_times, pred_times"
      ]
    },
    {
      "cell_type": "markdown",
      "metadata": {
        "id": "pni7mFQwzOFL"
      },
      "source": [
        "### Get times"
      ]
    },
    {
      "cell_type": "code",
      "execution_count": null,
      "metadata": {
        "id": "X9Ql2a5J6yIK"
      },
      "outputs": [],
      "source": [
        "enlarged_data = enlarge_dataset(X, y)"
      ]
    },
    {
      "cell_type": "code",
      "execution_count": null,
      "metadata": {
        "id": "hagiGEOYscnA"
      },
      "outputs": [],
      "source": [
        "LR_times, LR_pred_times     = get_times(LogisticRegression(), enlarged_data)\n",
        "DT_times, DT_pred_times     = get_times(DecisionTreeClassifier(), enlarged_data)\n",
        "SVC_times, SVC_pred_times   = get_times(SVC(), enlarged_data)\n",
        "GNB_times, GNB_pred_times   = get_times(GaussianNB(), enlarged_data)"
      ]
    },
    {
      "cell_type": "code",
      "execution_count": null,
      "metadata": {
        "id": "5H_cKMnitKdF"
      },
      "outputs": [],
      "source": [
        "train_data = np.array([LR_times, DT_times, SVC_times, GNB_times]).T\n",
        "pred_data  = np.array([LR_pred_times, DT_pred_times, SVC_pred_times, GNB_pred_times]).T"
      ]
    },
    {
      "cell_type": "markdown",
      "metadata": {
        "id": "WSWsotnizRrP"
      },
      "source": [
        "### Results"
      ]
    },
    {
      "cell_type": "code",
      "execution_count": null,
      "metadata": {
        "id": "lWFR3JG_btIs"
      },
      "outputs": [],
      "source": [
        "algorithm_names=[\"Logistic_regression\", \"Decision Tree\", \"Support Vector Classifier\", \"Gaussian Naive Bayes\"]"
      ]
    },
    {
      "cell_type": "markdown",
      "metadata": {
        "id": "Z1M_uTU697Gv"
      },
      "source": [
        "#### Tables"
      ]
    },
    {
      "cell_type": "code",
      "execution_count": null,
      "metadata": {
        "colab": {
          "base_uri": "https://localhost:8080/",
          "height": 449
        },
        "id": "qOKMGf3xtDpu",
        "outputId": "b9b40848-5568-49b8-abb6-f3d7d1553d58"
      },
      "outputs": [
        {
          "data": {
            "text/html": [
              "\n",
              "  <div id=\"df-7af41519-cb45-4f61-83d8-327f53a039c3\" class=\"colab-df-container\">\n",
              "    <div>\n",
              "<style scoped>\n",
              "    .dataframe tbody tr th:only-of-type {\n",
              "        vertical-align: middle;\n",
              "    }\n",
              "\n",
              "    .dataframe tbody tr th {\n",
              "        vertical-align: top;\n",
              "    }\n",
              "\n",
              "    .dataframe thead th {\n",
              "        text-align: right;\n",
              "    }\n",
              "</style>\n",
              "<table border=\"1\" class=\"dataframe\">\n",
              "  <thead>\n",
              "    <tr style=\"text-align: right;\">\n",
              "      <th></th>\n",
              "      <th>Logistic_regression</th>\n",
              "      <th>Decision Tree</th>\n",
              "      <th>Support Vector Classifier</th>\n",
              "      <th>Gaussian Naive Bayes</th>\n",
              "    </tr>\n",
              "  </thead>\n",
              "  <tbody>\n",
              "    <tr>\n",
              "      <th>358</th>\n",
              "      <td>1.494793</td>\n",
              "      <td>0.364784</td>\n",
              "      <td>0.377835</td>\n",
              "      <td>0.046407</td>\n",
              "    </tr>\n",
              "    <tr>\n",
              "      <th>1358</th>\n",
              "      <td>3.977731</td>\n",
              "      <td>2.116900</td>\n",
              "      <td>3.952157</td>\n",
              "      <td>0.204577</td>\n",
              "    </tr>\n",
              "    <tr>\n",
              "      <th>2358</th>\n",
              "      <td>5.170199</td>\n",
              "      <td>2.948977</td>\n",
              "      <td>7.326231</td>\n",
              "      <td>0.416074</td>\n",
              "    </tr>\n",
              "    <tr>\n",
              "      <th>3358</th>\n",
              "      <td>8.134236</td>\n",
              "      <td>3.396771</td>\n",
              "      <td>13.442176</td>\n",
              "      <td>0.577244</td>\n",
              "    </tr>\n",
              "    <tr>\n",
              "      <th>4358</th>\n",
              "      <td>9.237333</td>\n",
              "      <td>7.794653</td>\n",
              "      <td>22.697737</td>\n",
              "      <td>0.884708</td>\n",
              "    </tr>\n",
              "    <tr>\n",
              "      <th>5358</th>\n",
              "      <td>12.277479</td>\n",
              "      <td>5.147181</td>\n",
              "      <td>29.856381</td>\n",
              "      <td>1.121727</td>\n",
              "    </tr>\n",
              "    <tr>\n",
              "      <th>6358</th>\n",
              "      <td>14.085081</td>\n",
              "      <td>8.627507</td>\n",
              "      <td>36.885238</td>\n",
              "      <td>1.348610</td>\n",
              "    </tr>\n",
              "    <tr>\n",
              "      <th>7358</th>\n",
              "      <td>15.392395</td>\n",
              "      <td>6.874883</td>\n",
              "      <td>48.054938</td>\n",
              "      <td>1.326766</td>\n",
              "    </tr>\n",
              "    <tr>\n",
              "      <th>8358</th>\n",
              "      <td>18.748524</td>\n",
              "      <td>5.313147</td>\n",
              "      <td>50.889037</td>\n",
              "      <td>1.406276</td>\n",
              "    </tr>\n",
              "    <tr>\n",
              "      <th>9358</th>\n",
              "      <td>22.511461</td>\n",
              "      <td>8.024913</td>\n",
              "      <td>66.838120</td>\n",
              "      <td>1.589218</td>\n",
              "    </tr>\n",
              "    <tr>\n",
              "      <th>10358</th>\n",
              "      <td>30.843608</td>\n",
              "      <td>7.077034</td>\n",
              "      <td>62.919927</td>\n",
              "      <td>1.733095</td>\n",
              "    </tr>\n",
              "  </tbody>\n",
              "</table>\n",
              "</div>\n",
              "    <div class=\"colab-df-buttons\">\n",
              "\n",
              "  <div class=\"colab-df-container\">\n",
              "    <button class=\"colab-df-convert\" onclick=\"convertToInteractive('df-7af41519-cb45-4f61-83d8-327f53a039c3')\"\n",
              "            title=\"Convert this dataframe to an interactive table.\"\n",
              "            style=\"display:none;\">\n",
              "\n",
              "  <svg xmlns=\"http://www.w3.org/2000/svg\" height=\"24px\" viewBox=\"0 -960 960 960\">\n",
              "    <path d=\"M120-120v-720h720v720H120Zm60-500h600v-160H180v160Zm220 220h160v-160H400v160Zm0 220h160v-160H400v160ZM180-400h160v-160H180v160Zm440 0h160v-160H620v160ZM180-180h160v-160H180v160Zm440 0h160v-160H620v160Z\"/>\n",
              "  </svg>\n",
              "    </button>\n",
              "\n",
              "  <style>\n",
              "    .colab-df-container {\n",
              "      display:flex;\n",
              "      gap: 12px;\n",
              "    }\n",
              "\n",
              "    .colab-df-convert {\n",
              "      background-color: #E8F0FE;\n",
              "      border: none;\n",
              "      border-radius: 50%;\n",
              "      cursor: pointer;\n",
              "      display: none;\n",
              "      fill: #1967D2;\n",
              "      height: 32px;\n",
              "      padding: 0 0 0 0;\n",
              "      width: 32px;\n",
              "    }\n",
              "\n",
              "    .colab-df-convert:hover {\n",
              "      background-color: #E2EBFA;\n",
              "      box-shadow: 0px 1px 2px rgba(60, 64, 67, 0.3), 0px 1px 3px 1px rgba(60, 64, 67, 0.15);\n",
              "      fill: #174EA6;\n",
              "    }\n",
              "\n",
              "    .colab-df-buttons div {\n",
              "      margin-bottom: 4px;\n",
              "    }\n",
              "\n",
              "    [theme=dark] .colab-df-convert {\n",
              "      background-color: #3B4455;\n",
              "      fill: #D2E3FC;\n",
              "    }\n",
              "\n",
              "    [theme=dark] .colab-df-convert:hover {\n",
              "      background-color: #434B5C;\n",
              "      box-shadow: 0px 1px 3px 1px rgba(0, 0, 0, 0.15);\n",
              "      filter: drop-shadow(0px 1px 2px rgba(0, 0, 0, 0.3));\n",
              "      fill: #FFFFFF;\n",
              "    }\n",
              "  </style>\n",
              "\n",
              "    <script>\n",
              "      const buttonEl =\n",
              "        document.querySelector('#df-7af41519-cb45-4f61-83d8-327f53a039c3 button.colab-df-convert');\n",
              "      buttonEl.style.display =\n",
              "        google.colab.kernel.accessAllowed ? 'block' : 'none';\n",
              "\n",
              "      async function convertToInteractive(key) {\n",
              "        const element = document.querySelector('#df-7af41519-cb45-4f61-83d8-327f53a039c3');\n",
              "        const dataTable =\n",
              "          await google.colab.kernel.invokeFunction('convertToInteractive',\n",
              "                                                    [key], {});\n",
              "        if (!dataTable) return;\n",
              "\n",
              "        const docLinkHtml = 'Like what you see? Visit the ' +\n",
              "          '<a target=\"_blank\" href=https://colab.research.google.com/notebooks/data_table.ipynb>data table notebook</a>'\n",
              "          + ' to learn more about interactive tables.';\n",
              "        element.innerHTML = '';\n",
              "        dataTable['output_type'] = 'display_data';\n",
              "        await google.colab.output.renderOutput(dataTable, element);\n",
              "        const docLink = document.createElement('div');\n",
              "        docLink.innerHTML = docLinkHtml;\n",
              "        element.appendChild(docLink);\n",
              "      }\n",
              "    </script>\n",
              "  </div>\n",
              "\n",
              "\n",
              "<div id=\"df-52fe0767-a1b3-4022-92d5-4653924c0a0a\">\n",
              "  <button class=\"colab-df-quickchart\" onclick=\"quickchart('df-52fe0767-a1b3-4022-92d5-4653924c0a0a')\"\n",
              "            title=\"Suggest charts\"\n",
              "            style=\"display:none;\">\n",
              "\n",
              "<svg xmlns=\"http://www.w3.org/2000/svg\" height=\"24px\"viewBox=\"0 0 24 24\"\n",
              "     width=\"24px\">\n",
              "    <g>\n",
              "        <path d=\"M19 3H5c-1.1 0-2 .9-2 2v14c0 1.1.9 2 2 2h14c1.1 0 2-.9 2-2V5c0-1.1-.9-2-2-2zM9 17H7v-7h2v7zm4 0h-2V7h2v10zm4 0h-2v-4h2v4z\"/>\n",
              "    </g>\n",
              "</svg>\n",
              "  </button>\n",
              "\n",
              "<style>\n",
              "  .colab-df-quickchart {\n",
              "      --bg-color: #E8F0FE;\n",
              "      --fill-color: #1967D2;\n",
              "      --hover-bg-color: #E2EBFA;\n",
              "      --hover-fill-color: #174EA6;\n",
              "      --disabled-fill-color: #AAA;\n",
              "      --disabled-bg-color: #DDD;\n",
              "  }\n",
              "\n",
              "  [theme=dark] .colab-df-quickchart {\n",
              "      --bg-color: #3B4455;\n",
              "      --fill-color: #D2E3FC;\n",
              "      --hover-bg-color: #434B5C;\n",
              "      --hover-fill-color: #FFFFFF;\n",
              "      --disabled-bg-color: #3B4455;\n",
              "      --disabled-fill-color: #666;\n",
              "  }\n",
              "\n",
              "  .colab-df-quickchart {\n",
              "    background-color: var(--bg-color);\n",
              "    border: none;\n",
              "    border-radius: 50%;\n",
              "    cursor: pointer;\n",
              "    display: none;\n",
              "    fill: var(--fill-color);\n",
              "    height: 32px;\n",
              "    padding: 0;\n",
              "    width: 32px;\n",
              "  }\n",
              "\n",
              "  .colab-df-quickchart:hover {\n",
              "    background-color: var(--hover-bg-color);\n",
              "    box-shadow: 0 1px 2px rgba(60, 64, 67, 0.3), 0 1px 3px 1px rgba(60, 64, 67, 0.15);\n",
              "    fill: var(--button-hover-fill-color);\n",
              "  }\n",
              "\n",
              "  .colab-df-quickchart-complete:disabled,\n",
              "  .colab-df-quickchart-complete:disabled:hover {\n",
              "    background-color: var(--disabled-bg-color);\n",
              "    fill: var(--disabled-fill-color);\n",
              "    box-shadow: none;\n",
              "  }\n",
              "\n",
              "  .colab-df-spinner {\n",
              "    border: 2px solid var(--fill-color);\n",
              "    border-color: transparent;\n",
              "    border-bottom-color: var(--fill-color);\n",
              "    animation:\n",
              "      spin 1s steps(1) infinite;\n",
              "  }\n",
              "\n",
              "  @keyframes spin {\n",
              "    0% {\n",
              "      border-color: transparent;\n",
              "      border-bottom-color: var(--fill-color);\n",
              "      border-left-color: var(--fill-color);\n",
              "    }\n",
              "    20% {\n",
              "      border-color: transparent;\n",
              "      border-left-color: var(--fill-color);\n",
              "      border-top-color: var(--fill-color);\n",
              "    }\n",
              "    30% {\n",
              "      border-color: transparent;\n",
              "      border-left-color: var(--fill-color);\n",
              "      border-top-color: var(--fill-color);\n",
              "      border-right-color: var(--fill-color);\n",
              "    }\n",
              "    40% {\n",
              "      border-color: transparent;\n",
              "      border-right-color: var(--fill-color);\n",
              "      border-top-color: var(--fill-color);\n",
              "    }\n",
              "    60% {\n",
              "      border-color: transparent;\n",
              "      border-right-color: var(--fill-color);\n",
              "    }\n",
              "    80% {\n",
              "      border-color: transparent;\n",
              "      border-right-color: var(--fill-color);\n",
              "      border-bottom-color: var(--fill-color);\n",
              "    }\n",
              "    90% {\n",
              "      border-color: transparent;\n",
              "      border-bottom-color: var(--fill-color);\n",
              "    }\n",
              "  }\n",
              "</style>\n",
              "\n",
              "  <script>\n",
              "    async function quickchart(key) {\n",
              "      const quickchartButtonEl =\n",
              "        document.querySelector('#' + key + ' button');\n",
              "      quickchartButtonEl.disabled = true;  // To prevent multiple clicks.\n",
              "      quickchartButtonEl.classList.add('colab-df-spinner');\n",
              "      try {\n",
              "        const charts = await google.colab.kernel.invokeFunction(\n",
              "            'suggestCharts', [key], {});\n",
              "      } catch (error) {\n",
              "        console.error('Error during call to suggestCharts:', error);\n",
              "      }\n",
              "      quickchartButtonEl.classList.remove('colab-df-spinner');\n",
              "      quickchartButtonEl.classList.add('colab-df-quickchart-complete');\n",
              "    }\n",
              "    (() => {\n",
              "      let quickchartButtonEl =\n",
              "        document.querySelector('#df-52fe0767-a1b3-4022-92d5-4653924c0a0a button');\n",
              "      quickchartButtonEl.style.display =\n",
              "        google.colab.kernel.accessAllowed ? 'block' : 'none';\n",
              "    })();\n",
              "  </script>\n",
              "</div>\n",
              "    </div>\n",
              "  </div>\n"
            ],
            "text/plain": [
              "       Logistic_regression  Decision Tree  Support Vector Classifier  \\\n",
              "358               1.494793       0.364784                   0.377835   \n",
              "1358              3.977731       2.116900                   3.952157   \n",
              "2358              5.170199       2.948977                   7.326231   \n",
              "3358              8.134236       3.396771                  13.442176   \n",
              "4358              9.237333       7.794653                  22.697737   \n",
              "5358             12.277479       5.147181                  29.856381   \n",
              "6358             14.085081       8.627507                  36.885238   \n",
              "7358             15.392395       6.874883                  48.054938   \n",
              "8358             18.748524       5.313147                  50.889037   \n",
              "9358             22.511461       8.024913                  66.838120   \n",
              "10358            30.843608       7.077034                  62.919927   \n",
              "\n",
              "       Gaussian Naive Bayes  \n",
              "358                0.046407  \n",
              "1358               0.204577  \n",
              "2358               0.416074  \n",
              "3358               0.577244  \n",
              "4358               0.884708  \n",
              "5358               1.121727  \n",
              "6358               1.348610  \n",
              "7358               1.326766  \n",
              "8358               1.406276  \n",
              "9358               1.589218  \n",
              "10358              1.733095  "
            ]
          },
          "execution_count": 22,
          "metadata": {},
          "output_type": "execute_result"
        }
      ],
      "source": [
        "train_times_df = pd.DataFrame(train_data,\n",
        "                              columns=algorithm_names,\n",
        "                              index=range(0 + len(X), 11000 + len(X), 1000))\n",
        "train_times_df"
      ]
    },
    {
      "cell_type": "code",
      "execution_count": null,
      "metadata": {
        "colab": {
          "base_uri": "https://localhost:8080/",
          "height": 449
        },
        "id": "jiAgnJcSW9I5",
        "outputId": "0b31e73c-87ff-4b31-bcc7-bd9d15933a7b"
      },
      "outputs": [
        {
          "data": {
            "text/html": [
              "\n",
              "  <div id=\"df-c97afc1b-0573-44b6-aa3e-8fb46790df52\" class=\"colab-df-container\">\n",
              "    <div>\n",
              "<style scoped>\n",
              "    .dataframe tbody tr th:only-of-type {\n",
              "        vertical-align: middle;\n",
              "    }\n",
              "\n",
              "    .dataframe tbody tr th {\n",
              "        vertical-align: top;\n",
              "    }\n",
              "\n",
              "    .dataframe thead th {\n",
              "        text-align: right;\n",
              "    }\n",
              "</style>\n",
              "<table border=\"1\" class=\"dataframe\">\n",
              "  <thead>\n",
              "    <tr style=\"text-align: right;\">\n",
              "      <th></th>\n",
              "      <th>Logistic_regression</th>\n",
              "      <th>Decision Tree</th>\n",
              "      <th>Support Vector Classifier</th>\n",
              "      <th>Gaussian Naive Bayes</th>\n",
              "    </tr>\n",
              "  </thead>\n",
              "  <tbody>\n",
              "    <tr>\n",
              "      <th>358</th>\n",
              "      <td>0.016288</td>\n",
              "      <td>0.004633</td>\n",
              "      <td>0.726128</td>\n",
              "      <td>0.033189</td>\n",
              "    </tr>\n",
              "    <tr>\n",
              "      <th>1358</th>\n",
              "      <td>0.077114</td>\n",
              "      <td>0.012826</td>\n",
              "      <td>5.172656</td>\n",
              "      <td>0.182571</td>\n",
              "    </tr>\n",
              "    <tr>\n",
              "      <th>2358</th>\n",
              "      <td>0.136052</td>\n",
              "      <td>0.035692</td>\n",
              "      <td>11.010036</td>\n",
              "      <td>0.310380</td>\n",
              "    </tr>\n",
              "    <tr>\n",
              "      <th>3358</th>\n",
              "      <td>0.201338</td>\n",
              "      <td>0.075392</td>\n",
              "      <td>26.512456</td>\n",
              "      <td>0.436549</td>\n",
              "    </tr>\n",
              "    <tr>\n",
              "      <th>4358</th>\n",
              "      <td>0.155225</td>\n",
              "      <td>0.080117</td>\n",
              "      <td>37.010667</td>\n",
              "      <td>0.696631</td>\n",
              "    </tr>\n",
              "    <tr>\n",
              "      <th>5358</th>\n",
              "      <td>0.212558</td>\n",
              "      <td>0.099554</td>\n",
              "      <td>43.328908</td>\n",
              "      <td>0.844811</td>\n",
              "    </tr>\n",
              "    <tr>\n",
              "      <th>6358</th>\n",
              "      <td>0.284496</td>\n",
              "      <td>0.275758</td>\n",
              "      <td>58.396436</td>\n",
              "      <td>0.989221</td>\n",
              "    </tr>\n",
              "    <tr>\n",
              "      <th>7358</th>\n",
              "      <td>0.307944</td>\n",
              "      <td>0.104934</td>\n",
              "      <td>62.216455</td>\n",
              "      <td>0.957982</td>\n",
              "    </tr>\n",
              "    <tr>\n",
              "      <th>8358</th>\n",
              "      <td>0.411127</td>\n",
              "      <td>0.118836</td>\n",
              "      <td>78.021067</td>\n",
              "      <td>1.091851</td>\n",
              "    </tr>\n",
              "    <tr>\n",
              "      <th>9358</th>\n",
              "      <td>0.496379</td>\n",
              "      <td>0.133516</td>\n",
              "      <td>86.471439</td>\n",
              "      <td>1.229219</td>\n",
              "    </tr>\n",
              "    <tr>\n",
              "      <th>10358</th>\n",
              "      <td>0.466978</td>\n",
              "      <td>0.154787</td>\n",
              "      <td>93.809157</td>\n",
              "      <td>1.412954</td>\n",
              "    </tr>\n",
              "  </tbody>\n",
              "</table>\n",
              "</div>\n",
              "    <div class=\"colab-df-buttons\">\n",
              "\n",
              "  <div class=\"colab-df-container\">\n",
              "    <button class=\"colab-df-convert\" onclick=\"convertToInteractive('df-c97afc1b-0573-44b6-aa3e-8fb46790df52')\"\n",
              "            title=\"Convert this dataframe to an interactive table.\"\n",
              "            style=\"display:none;\">\n",
              "\n",
              "  <svg xmlns=\"http://www.w3.org/2000/svg\" height=\"24px\" viewBox=\"0 -960 960 960\">\n",
              "    <path d=\"M120-120v-720h720v720H120Zm60-500h600v-160H180v160Zm220 220h160v-160H400v160Zm0 220h160v-160H400v160ZM180-400h160v-160H180v160Zm440 0h160v-160H620v160ZM180-180h160v-160H180v160Zm440 0h160v-160H620v160Z\"/>\n",
              "  </svg>\n",
              "    </button>\n",
              "\n",
              "  <style>\n",
              "    .colab-df-container {\n",
              "      display:flex;\n",
              "      gap: 12px;\n",
              "    }\n",
              "\n",
              "    .colab-df-convert {\n",
              "      background-color: #E8F0FE;\n",
              "      border: none;\n",
              "      border-radius: 50%;\n",
              "      cursor: pointer;\n",
              "      display: none;\n",
              "      fill: #1967D2;\n",
              "      height: 32px;\n",
              "      padding: 0 0 0 0;\n",
              "      width: 32px;\n",
              "    }\n",
              "\n",
              "    .colab-df-convert:hover {\n",
              "      background-color: #E2EBFA;\n",
              "      box-shadow: 0px 1px 2px rgba(60, 64, 67, 0.3), 0px 1px 3px 1px rgba(60, 64, 67, 0.15);\n",
              "      fill: #174EA6;\n",
              "    }\n",
              "\n",
              "    .colab-df-buttons div {\n",
              "      margin-bottom: 4px;\n",
              "    }\n",
              "\n",
              "    [theme=dark] .colab-df-convert {\n",
              "      background-color: #3B4455;\n",
              "      fill: #D2E3FC;\n",
              "    }\n",
              "\n",
              "    [theme=dark] .colab-df-convert:hover {\n",
              "      background-color: #434B5C;\n",
              "      box-shadow: 0px 1px 3px 1px rgba(0, 0, 0, 0.15);\n",
              "      filter: drop-shadow(0px 1px 2px rgba(0, 0, 0, 0.3));\n",
              "      fill: #FFFFFF;\n",
              "    }\n",
              "  </style>\n",
              "\n",
              "    <script>\n",
              "      const buttonEl =\n",
              "        document.querySelector('#df-c97afc1b-0573-44b6-aa3e-8fb46790df52 button.colab-df-convert');\n",
              "      buttonEl.style.display =\n",
              "        google.colab.kernel.accessAllowed ? 'block' : 'none';\n",
              "\n",
              "      async function convertToInteractive(key) {\n",
              "        const element = document.querySelector('#df-c97afc1b-0573-44b6-aa3e-8fb46790df52');\n",
              "        const dataTable =\n",
              "          await google.colab.kernel.invokeFunction('convertToInteractive',\n",
              "                                                    [key], {});\n",
              "        if (!dataTable) return;\n",
              "\n",
              "        const docLinkHtml = 'Like what you see? Visit the ' +\n",
              "          '<a target=\"_blank\" href=https://colab.research.google.com/notebooks/data_table.ipynb>data table notebook</a>'\n",
              "          + ' to learn more about interactive tables.';\n",
              "        element.innerHTML = '';\n",
              "        dataTable['output_type'] = 'display_data';\n",
              "        await google.colab.output.renderOutput(dataTable, element);\n",
              "        const docLink = document.createElement('div');\n",
              "        docLink.innerHTML = docLinkHtml;\n",
              "        element.appendChild(docLink);\n",
              "      }\n",
              "    </script>\n",
              "  </div>\n",
              "\n",
              "\n",
              "<div id=\"df-cccd73d1-03ea-448a-bbf9-d4f7f3668bc9\">\n",
              "  <button class=\"colab-df-quickchart\" onclick=\"quickchart('df-cccd73d1-03ea-448a-bbf9-d4f7f3668bc9')\"\n",
              "            title=\"Suggest charts\"\n",
              "            style=\"display:none;\">\n",
              "\n",
              "<svg xmlns=\"http://www.w3.org/2000/svg\" height=\"24px\"viewBox=\"0 0 24 24\"\n",
              "     width=\"24px\">\n",
              "    <g>\n",
              "        <path d=\"M19 3H5c-1.1 0-2 .9-2 2v14c0 1.1.9 2 2 2h14c1.1 0 2-.9 2-2V5c0-1.1-.9-2-2-2zM9 17H7v-7h2v7zm4 0h-2V7h2v10zm4 0h-2v-4h2v4z\"/>\n",
              "    </g>\n",
              "</svg>\n",
              "  </button>\n",
              "\n",
              "<style>\n",
              "  .colab-df-quickchart {\n",
              "      --bg-color: #E8F0FE;\n",
              "      --fill-color: #1967D2;\n",
              "      --hover-bg-color: #E2EBFA;\n",
              "      --hover-fill-color: #174EA6;\n",
              "      --disabled-fill-color: #AAA;\n",
              "      --disabled-bg-color: #DDD;\n",
              "  }\n",
              "\n",
              "  [theme=dark] .colab-df-quickchart {\n",
              "      --bg-color: #3B4455;\n",
              "      --fill-color: #D2E3FC;\n",
              "      --hover-bg-color: #434B5C;\n",
              "      --hover-fill-color: #FFFFFF;\n",
              "      --disabled-bg-color: #3B4455;\n",
              "      --disabled-fill-color: #666;\n",
              "  }\n",
              "\n",
              "  .colab-df-quickchart {\n",
              "    background-color: var(--bg-color);\n",
              "    border: none;\n",
              "    border-radius: 50%;\n",
              "    cursor: pointer;\n",
              "    display: none;\n",
              "    fill: var(--fill-color);\n",
              "    height: 32px;\n",
              "    padding: 0;\n",
              "    width: 32px;\n",
              "  }\n",
              "\n",
              "  .colab-df-quickchart:hover {\n",
              "    background-color: var(--hover-bg-color);\n",
              "    box-shadow: 0 1px 2px rgba(60, 64, 67, 0.3), 0 1px 3px 1px rgba(60, 64, 67, 0.15);\n",
              "    fill: var(--button-hover-fill-color);\n",
              "  }\n",
              "\n",
              "  .colab-df-quickchart-complete:disabled,\n",
              "  .colab-df-quickchart-complete:disabled:hover {\n",
              "    background-color: var(--disabled-bg-color);\n",
              "    fill: var(--disabled-fill-color);\n",
              "    box-shadow: none;\n",
              "  }\n",
              "\n",
              "  .colab-df-spinner {\n",
              "    border: 2px solid var(--fill-color);\n",
              "    border-color: transparent;\n",
              "    border-bottom-color: var(--fill-color);\n",
              "    animation:\n",
              "      spin 1s steps(1) infinite;\n",
              "  }\n",
              "\n",
              "  @keyframes spin {\n",
              "    0% {\n",
              "      border-color: transparent;\n",
              "      border-bottom-color: var(--fill-color);\n",
              "      border-left-color: var(--fill-color);\n",
              "    }\n",
              "    20% {\n",
              "      border-color: transparent;\n",
              "      border-left-color: var(--fill-color);\n",
              "      border-top-color: var(--fill-color);\n",
              "    }\n",
              "    30% {\n",
              "      border-color: transparent;\n",
              "      border-left-color: var(--fill-color);\n",
              "      border-top-color: var(--fill-color);\n",
              "      border-right-color: var(--fill-color);\n",
              "    }\n",
              "    40% {\n",
              "      border-color: transparent;\n",
              "      border-right-color: var(--fill-color);\n",
              "      border-top-color: var(--fill-color);\n",
              "    }\n",
              "    60% {\n",
              "      border-color: transparent;\n",
              "      border-right-color: var(--fill-color);\n",
              "    }\n",
              "    80% {\n",
              "      border-color: transparent;\n",
              "      border-right-color: var(--fill-color);\n",
              "      border-bottom-color: var(--fill-color);\n",
              "    }\n",
              "    90% {\n",
              "      border-color: transparent;\n",
              "      border-bottom-color: var(--fill-color);\n",
              "    }\n",
              "  }\n",
              "</style>\n",
              "\n",
              "  <script>\n",
              "    async function quickchart(key) {\n",
              "      const quickchartButtonEl =\n",
              "        document.querySelector('#' + key + ' button');\n",
              "      quickchartButtonEl.disabled = true;  // To prevent multiple clicks.\n",
              "      quickchartButtonEl.classList.add('colab-df-spinner');\n",
              "      try {\n",
              "        const charts = await google.colab.kernel.invokeFunction(\n",
              "            'suggestCharts', [key], {});\n",
              "      } catch (error) {\n",
              "        console.error('Error during call to suggestCharts:', error);\n",
              "      }\n",
              "      quickchartButtonEl.classList.remove('colab-df-spinner');\n",
              "      quickchartButtonEl.classList.add('colab-df-quickchart-complete');\n",
              "    }\n",
              "    (() => {\n",
              "      let quickchartButtonEl =\n",
              "        document.querySelector('#df-cccd73d1-03ea-448a-bbf9-d4f7f3668bc9 button');\n",
              "      quickchartButtonEl.style.display =\n",
              "        google.colab.kernel.accessAllowed ? 'block' : 'none';\n",
              "    })();\n",
              "  </script>\n",
              "</div>\n",
              "    </div>\n",
              "  </div>\n"
            ],
            "text/plain": [
              "       Logistic_regression  Decision Tree  Support Vector Classifier  \\\n",
              "358               0.016288       0.004633                   0.726128   \n",
              "1358              0.077114       0.012826                   5.172656   \n",
              "2358              0.136052       0.035692                  11.010036   \n",
              "3358              0.201338       0.075392                  26.512456   \n",
              "4358              0.155225       0.080117                  37.010667   \n",
              "5358              0.212558       0.099554                  43.328908   \n",
              "6358              0.284496       0.275758                  58.396436   \n",
              "7358              0.307944       0.104934                  62.216455   \n",
              "8358              0.411127       0.118836                  78.021067   \n",
              "9358              0.496379       0.133516                  86.471439   \n",
              "10358             0.466978       0.154787                  93.809157   \n",
              "\n",
              "       Gaussian Naive Bayes  \n",
              "358                0.033189  \n",
              "1358               0.182571  \n",
              "2358               0.310380  \n",
              "3358               0.436549  \n",
              "4358               0.696631  \n",
              "5358               0.844811  \n",
              "6358               0.989221  \n",
              "7358               0.957982  \n",
              "8358               1.091851  \n",
              "9358               1.229219  \n",
              "10358              1.412954  "
            ]
          },
          "execution_count": 23,
          "metadata": {},
          "output_type": "execute_result"
        }
      ],
      "source": [
        "pred_times_df = pd.DataFrame(pred_data,\n",
        "                             columns=algorithm_names,\n",
        "                             index=range(0 + len(X), 11000 + len(X), 1000))\n",
        "pred_times_df"
      ]
    },
    {
      "cell_type": "markdown",
      "metadata": {
        "id": "Y1UWlxTK99nT"
      },
      "source": [
        "#### Plots"
      ]
    },
    {
      "cell_type": "markdown",
      "metadata": {
        "id": "3jj48rj99_rs"
      },
      "source": [
        "We can notice that the models scale consistently to the previous results. Then we can select the logistic regression model for its good results between accuracy and train/predict time. Even if the Support Vector Machine has obtaind good results the large predict time make us discard it. The reason is that the prediction will be a recurrent request which the users will do, then it is necessary that the results are given in a reasonable amount of time"
      ]
    },
    {
      "cell_type": "code",
      "execution_count": null,
      "metadata": {
        "colab": {
          "base_uri": "https://localhost:8080/",
          "height": 391
        },
        "id": "dNd0ZF5Jyt9X",
        "outputId": "4e58f77c-21c3-4aea-8536-526351bf56df"
      },
      "outputs": [
        {
          "data": {
            "image/png": "[encoded data removed]",
            "text/plain": [
              "<Figure size 800x400 with 1 Axes>"
            ]
          },
          "metadata": {},
          "output_type": "display_data"
        }
      ],
      "source": [
        "for model in algorithm_names:\n",
        "   plot_times(train_times_df, model)\n",
        "\n",
        "plt.grid()\n",
        "plt.title(\"Train\")\n",
        "plt.legend()\n",
        "plt.show()"
      ]
    },
    {
      "cell_type": "code",
      "execution_count": null,
      "metadata": {
        "colab": {
          "base_uri": "https://localhost:8080/",
          "height": 391
        },
        "id": "Xmi4a0x8XHNp",
        "outputId": "592b6615-e5d1-4c0b-ff22-2d4c118bff72"
      },
      "outputs": [
        {
          "data": {
            "image/png": "[encoded data removed]",
            "text/plain": [
              "<Figure size 800x400 with 1 Axes>"
            ]
          },
          "metadata": {},
          "output_type": "display_data"
        }
      ],
      "source": [
        "for model in algorithm_names:\n",
        "   plot_times(pred_times_df, model)\n",
        "\n",
        "plt.title(\"Predict\")\n",
        "plt.legend()\n",
        "plt.show()"
      ]
    },
    {
      "cell_type": "markdown",
      "metadata": {
        "id": "ec4UQ6N2YJad"
      },
      "source": [
        "# Grid Search"
      ]
    },
    {
      "cell_type": "code",
      "execution_count": null,
      "metadata": {
        "id": "LWBKiho1aUxc"
      },
      "outputs": [],
      "source": [
        "X_train, X_test, y_train, y_test = train_test_split(X, y, test_size=0.2)"
      ]
    },
    {
      "cell_type": "markdown",
      "metadata": {
        "id": "eiU7KipMac5K"
      },
      "source": [
        "#### Default"
      ]
    },
    {
      "cell_type": "markdown",
      "metadata": {
        "id": "YnhJ-q64N6r1"
      },
      "source": [
        "To determine which parameters are the best we take the default model as the baseline to compare the results"
      ]
    },
    {
      "cell_type": "code",
      "execution_count": null,
      "metadata": {
        "id": "FVbtebGwaD-U"
      },
      "outputs": [],
      "source": [
        "LR = LogisticRegression().fit(X_train, y_train)"
      ]
    },
    {
      "cell_type": "code",
      "execution_count": null,
      "metadata": {
        "colab": {
          "base_uri": "https://localhost:8080/"
        },
        "id": "sIGGLHp-aIoT",
        "outputId": "3385e482-0298-4b86-bfbd-eb98724de264"
      },
      "outputs": [
        {
          "data": {
            "text/plain": [
              "0.8611111111111112"
            ]
          },
          "execution_count": 28,
          "metadata": {},
          "output_type": "execute_result"
        }
      ],
      "source": [
        "LR.score(X_test, y_test)"
      ]
    },
    {
      "cell_type": "code",
      "execution_count": null,
      "metadata": {
        "colab": {
          "base_uri": "https://localhost:8080/"
        },
        "id": "m1dz900cl34h",
        "outputId": "55a1acad-b6b2-4589-b8cc-4a25c5707baa"
      },
      "outputs": [
        {
          "data": {
            "text/plain": [
              "{'C': 1.0,\n",
              " 'class_weight': None,\n",
              " 'dual': False,\n",
              " 'fit_intercept': True,\n",
              " 'intercept_scaling': 1,\n",
              " 'l1_ratio': None,\n",
              " 'max_iter': 100,\n",
              " 'multi_class': 'auto',\n",
              " 'n_jobs': None,\n",
              " 'penalty': 'l2',\n",
              " 'random_state': None,\n",
              " 'solver': 'lbfgs',\n",
              " 'tol': 0.0001,\n",
              " 'verbose': 0,\n",
              " 'warm_start': False}"
            ]
          },
          "execution_count": 29,
          "metadata": {},
          "output_type": "execute_result"
        }
      ],
      "source": [
        "LR.get_params()"
      ]
    },
    {
      "cell_type": "markdown",
      "metadata": {
        "id": "2ZSqhRQP2buQ"
      },
      "source": [
        "#### Grid Search Solver"
      ]
    },
    {
      "cell_type": "code",
      "execution_count": null,
      "metadata": {
        "id": "C-NCdh3HwmJt"
      },
      "outputs": [],
      "source": [
        "parameters = {'solver': ['lbfgs', 'liblinear', 'newton-cg', 'newton-cholesky', 'sag', 'saga']}\n",
        "clf = GridSearchCV(LogisticRegression(), parameters).fit(X_train, y_train)"
      ]
    },
    {
      "cell_type": "code",
      "execution_count": null,
      "metadata": {
        "colab": {
          "base_uri": "https://localhost:8080/"
        },
        "id": "2Oih2tYWxIzv",
        "outputId": "afb1d264-85b0-4c84-b4f7-922d8eff0e0c"
      },
      "outputs": [
        {
          "data": {
            "text/plain": [
              "0.8333333333333334"
            ]
          },
          "execution_count": 12,
          "metadata": {},
          "output_type": "execute_result"
        }
      ],
      "source": [
        "clf.best_estimator_.score(X_test, y_test)"
      ]
    },
    {
      "cell_type": "code",
      "execution_count": null,
      "metadata": {
        "colab": {
          "base_uri": "https://localhost:8080/"
        },
        "id": "wHoQn0LYxzWG",
        "outputId": "8497c2e6-c500-46ec-9888-e4955c805704"
      },
      "outputs": [
        {
          "data": {
            "text/plain": [
              "{'solver': 'lbfgs'}"
            ]
          },
          "execution_count": 13,
          "metadata": {},
          "output_type": "execute_result"
        }
      ],
      "source": [
        "clf.best_params_\n"
      ]
    },
    {
      "cell_type": "markdown",
      "metadata": {
        "id": "39gKMG2JafsQ"
      },
      "source": [
        "#### Grid Search LR"
      ]
    },
    {
      "cell_type": "markdown",
      "metadata": {
        "id": "eR1R35l5OD7H"
      },
      "source": [
        "Using the Grid Search approach we try different combination of parameters to understand which parameters are the best."
      ]
    },
    {
      "cell_type": "code",
      "execution_count": null,
      "metadata": {
        "id": "HewOsf-4YNGA"
      },
      "outputs": [],
      "source": [
        "parameters = {'penalty':[None, 'l1', 'l2'], 'C':[1, 10, 100], 'class_weight':['balanced', 'None'], 'max_iter':[1000, 2000, 3000], 'tol':[0.1, 0.01, 0.001, 0.0001]}\n",
        "clf = GridSearchCV(LogisticRegression(), parameters).fit(X_train, y_train)"
      ]
    },
    {
      "cell_type": "code",
      "execution_count": null,
      "metadata": {
        "colab": {
          "base_uri": "https://localhost:8080/"
        },
        "id": "eQmsHEpbZhMw",
        "outputId": "4082616a-9c38-4a31-97b6-02fb12dedcf7"
      },
      "outputs": [
        {
          "data": {
            "text/plain": [
              "0.8611111111111112"
            ]
          },
          "execution_count": 40,
          "metadata": {},
          "output_type": "execute_result"
        }
      ],
      "source": [
        "clf.best_estimator_.score(X_test, y_test)"
      ]
    },
    {
      "cell_type": "code",
      "execution_count": null,
      "metadata": {
        "colab": {
          "base_uri": "https://localhost:8080/"
        },
        "id": "thY_LSWeZqqT",
        "outputId": "18a1524c-b5b8-49af-efcc-28ff38a6939c"
      },
      "outputs": [
        {
          "data": {
            "text/plain": [
              "{'C': 1,\n",
              " 'class_weight': 'balanced',\n",
              " 'max_iter': 1000,\n",
              " 'penalty': None,\n",
              " 'tol': 0.1}"
            ]
          },
          "execution_count": 41,
          "metadata": {},
          "output_type": "execute_result"
        }
      ],
      "source": [
        "clf.best_params_"
      ]
    },
    {
      "cell_type": "code",
      "execution_count": null,
      "metadata": {
        "id": "q_1TIaf3nzhM"
      },
      "outputs": [],
      "source": [
        "parameters = {'C':[1, 10],  'class_weight':['balanced', 'None', {0.6, 0.4}], 'max_iter':[1000, 2000, 3000], 'tol':[0.1, 0.01, 0.001, 0.0001]}\n",
        "lr = LogisticRegression()\n",
        "clf = GridSearchCV(lr, parameters).fit(X_train, y_train)"
      ]
    },
    {
      "cell_type": "code",
      "execution_count": null,
      "metadata": {
        "colab": {
          "base_uri": "https://localhost:8080/"
        },
        "id": "LuykbA59n8Lm",
        "outputId": "9367f2db-9fad-4df6-b226-000a2f58a2e3"
      },
      "outputs": [
        {
          "data": {
            "text/plain": [
              "0.8611111111111112"
            ]
          },
          "execution_count": 43,
          "metadata": {},
          "output_type": "execute_result"
        }
      ],
      "source": [
        "clf.best_estimator_.score(X_test, y_test)"
      ]
    },
    {
      "cell_type": "code",
      "execution_count": null,
      "metadata": {
        "colab": {
          "base_uri": "https://localhost:8080/"
        },
        "id": "Kkrzsm8tn8Ln",
        "outputId": "25e358c6-aa36-4aea-eb22-8fa695600292"
      },
      "outputs": [
        {
          "data": {
            "text/plain": [
              "{'C': 10, 'class_weight': 'balanced', 'max_iter': 1000, 'tol': 0.01}"
            ]
          },
          "execution_count": 44,
          "metadata": {},
          "output_type": "execute_result"
        }
      ],
      "source": [
        "clf.best_params_"
      ]
    },
    {
      "cell_type": "markdown",
      "metadata": {
        "id": "Ao6B3bd5Pna5"
      },
      "source": [
        "What we can notice is that the best solutions found have the same results of the default model. This means that we can even keep the default model to keep the train simplier without lose informations."
      ]
    },
    {
      "cell_type": "markdown",
      "metadata": {
        "id": "YIm8GfUAUBUB"
      },
      "source": [
        "### Feature Importance"
      ]
    },
    {
      "cell_type": "markdown",
      "metadata": {
        "id": "rWusWTj7QGNz"
      },
      "source": [
        "As last step we could be interest in what words are significant to keep. This because if none of the user's models use some words, then keep these words make the complexity of the models higher than the needed one. To determine which words can be removed we can analize the coefficients of the Logistic Regression model. This process should be done with an higher number of models otherwise we are just determining which words are not used by a single user. This process could be useful also for trasparency showing why a page was suggested to a specific user."
      ]
    },
    {
      "cell_type": "markdown",
      "metadata": {
        "id": "Vom11v37njVQ"
      },
      "source": [
        "#### LR Feature importance"
      ]
    },
    {
      "cell_type": "markdown",
      "metadata": {
        "id": "ZtX8HF5ttD0Q"
      },
      "source": [
        "Take the 20 words wich affect the least the decision"
      ]
    },
    {
      "cell_type": "code",
      "execution_count": null,
      "metadata": {
        "id": "18BlA74SvT5i"
      },
      "outputs": [],
      "source": [
        "idxs = np.argsort(np.abs(LR.coef_))[0][:20]"
      ]
    },
    {
      "cell_type": "code",
      "execution_count": null,
      "metadata": {
        "id": "qk8njCjdu81D"
      },
      "outputs": [],
      "source": [
        "name_min = pages_df.columns[2:][idxs]\n",
        "val_min = LR.coef_[0][idxs]"
      ]
    },
    {
      "cell_type": "code",
      "execution_count": null,
      "metadata": {
        "colab": {
          "base_uri": "https://localhost:8080/"
        },
        "id": "2NjqaCR-s2Y0",
        "outputId": "3e4be644-af28-4ec1-d16e-574ff8b6bb8a"
      },
      "outputs": [
        {
          "data": {
            "text/plain": [
              "[('neo', 0.0),\n",
              " ('plates', 0.0),\n",
              " ('entities', 0.0),\n",
              " ('trans', 0.0),\n",
              " ('apparatus', 0.0),\n",
              " ('outcomes', 0.0),\n",
              " ('sheer', 0.0),\n",
              " ('pens', 0.0),\n",
              " ('removing', 0.0),\n",
              " ('reel', 0.0),\n",
              " ('jaguar', 0.0),\n",
              " ('cayman', 0.0),\n",
              " ('challenge', 0.0),\n",
              " ('rangers', 0.0),\n",
              " ('attach', 0.0),\n",
              " ('feelings', 0.0),\n",
              " ('merchant', 0.0),\n",
              " ('arrest', 0.0),\n",
              " ('charging', 0.0),\n",
              " ('dv', 0.0)]"
            ]
          },
          "execution_count": 48,
          "metadata": {},
          "output_type": "execute_result"
        }
      ],
      "source": [
        "[(name, val) for name, val in zip(name_min, val_min)]"
      ]
    },
    {
      "cell_type": "markdown",
      "metadata": {
        "id": "4ovpcGDctHDo"
      },
      "source": [
        "Take the 20 pages which affect the most the decision (positively and negatively)"
      ]
    },
    {
      "cell_type": "code",
      "execution_count": null,
      "metadata": {
        "id": "vluevKaEtY_4"
      },
      "outputs": [],
      "source": [
        "idxs = np.argsort(np.abs(LR.coef_))[0][-20:][::-1]"
      ]
    },
    {
      "cell_type": "code",
      "execution_count": null,
      "metadata": {
        "id": "STFH5Nn5wBZR"
      },
      "outputs": [],
      "source": [
        "name_max = pages_df.columns[2:][idxs]\n",
        "val_max = LR.coef_[0][idxs]"
      ]
    },
    {
      "cell_type": "code",
      "execution_count": null,
      "metadata": {
        "colab": {
          "base_uri": "https://localhost:8080/"
        },
        "id": "YSeYjUcptTn5",
        "outputId": "7fa747a7-63ee-49d9-9c24-b5e52ccfb7e4"
      },
      "outputs": [
        {
          "data": {
            "text/plain": [
              "[('from', 0.36743418420231677),\n",
              " ('be', 0.3365965134434953),\n",
              " ('dc', 0.3305570083415603),\n",
              " ('they', 0.28176048199355785),\n",
              " ('do', 0.25910013707627),\n",
              " ('have', 0.2510901881858558),\n",
              " ('county', 0.24215771403541878),\n",
              " ('men', 0.2269303781400369),\n",
              " ('what', 0.22683864463894896),\n",
              " ('views', 0.21585776748417795),\n",
              " ('tool', 0.2125758245315307),\n",
              " ('service', 0.21139743370149017),\n",
              " ('with', 0.20401138954673087),\n",
              " ('these', 0.20056900261537206),\n",
              " ('ui', 0.19429762650055366),\n",
              " ('compare', 0.19363608412315753),\n",
              " ('reports', 0.19081860697291667),\n",
              " ('unless', -0.1905678081239282),\n",
              " ('short', 0.19004784438628158),\n",
              " ('site', 0.18918123238080622)]"
            ]
          },
          "execution_count": 51,
          "metadata": {},
          "output_type": "execute_result"
        }
      ],
      "source": [
        "[(name, val)for name, val in zip(name_max, val_max)]"
      ]
    },
    {
      "cell_type": "markdown",
      "metadata": {
        "id": "gC0xBwrFa1vv"
      },
      "source": [
        "Save the information into a file"
      ]
    },
    {
      "cell_type": "code",
      "execution_count": null,
      "metadata": {
        "id": "5W3jB7SFnbC-"
      },
      "outputs": [],
      "source": [
        "data = np.array([pages_df.columns[3:], LR.coef_[0]]).T\n",
        "df = pd.DataFrame(data,\n",
        "                  columns=[\"word\", \"weight\"])\n",
        "df.to_csv(\"/content/drive/MyDrive/MLOps/LR_weight.csv\", sep='\\t', index=False)"
      ]
    }
  ],
  "metadata": {
    "colab": {
      "collapsed_sections": [
        "-0BWyD33OB9m",
        "ElDDb1vgzL3s",
        "pni7mFQwzOFL",
        "Z1M_uTU697Gv"
      ],
      "provenance": []
    },
    "kernelspec": {
      "display_name": "Python 3",
      "name": "python3"
    },
    "language_info": {
      "codemirror_mode": {
        "name": "ipython",
        "version": 3
      },
      "file_extension": ".py",
      "mimetype": "text/x-python",
      "name": "python",
      "nbconvert_exporter": "python",
      "pygments_lexer": "ipython3",
      "version": "3.11.7"
    }
  },
  "nbformat": 4,
  "nbformat_minor": 0
}
